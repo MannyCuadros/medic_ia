{
 "cells": [
  {
   "cell_type": "markdown",
   "metadata": {},
   "source": [
    "ENTRENAMIENTO Y EVALUACIÓN"
   ]
  },
  {
   "cell_type": "code",
   "execution_count": null,
   "metadata": {},
   "outputs": [],
   "source": [
    "import pandas as pd\n",
    "import numpy as np\n",
    "import collections as cols\n",
    "from sklearn.preprocessing import LabelEncoder, StandardScaler\n",
    "from sklearn.model_selection import train_test_split\n",
    "from tensorflow.keras.models import Sequential\n",
    "from tensorflow.keras.layers import Dense, Activation, Dropout, LeakyReLU\n",
    "from tensorflow.keras.optimizers import Adam\n",
    "from tensorflow.keras.utils import to_categorical\n",
    "from sklearn.metrics import classification_report, confusion_matrix\n",
    "from tensorflow.keras.layers import LeakyReLU\n",
    "from tensorflow.keras.callbacks import EarlyStopping"
   ]
  },
  {
   "cell_type": "markdown",
   "metadata": {},
   "source": []
  },
  {
   "cell_type": "code",
   "execution_count": 2,
   "metadata": {},
   "outputs": [],
   "source": [
    "#1 Cargar los datos preprocesados\n",
    "file_path = 'databases/Base de datos para desarrollo v2_dest(preprocesada).csv'\n",
    "df = pd.read_csv(file_path)"
   ]
  },
  {
   "cell_type": "code",
   "execution_count": 3,
   "metadata": {},
   "outputs": [
    {
     "name": "stdout",
     "output_type": "stream",
     "text": [
      "        __temperatura   __pulso     __pas     __pad   __sat02\n",
      "0            0.229959 -0.141229 -0.090837 -0.514129  0.166636\n",
      "1           -4.667926 -3.667914 -2.134067 -2.059868 -6.671051\n",
      "2           -4.667926 -1.223280  0.405649  0.495334  0.236409\n",
      "3            0.229959  1.902645  1.379525  1.094702  0.306181\n",
      "4            0.203121  0.980898 -0.530036  0.179877  0.236409\n",
      "...               ...       ...       ...       ...       ...\n",
      "189077       0.109189  0.099227 -0.186315 -0.514129  0.306181\n",
      "189078       0.068933  0.540062 -0.186315 -0.514129  0.027092\n",
      "189079       0.082352 -0.702292  0.653892  0.810791  0.166636\n",
      "189080       0.162865 -0.501913  0.443840  0.400697  0.236409\n",
      "189081       0.229959 -1.062976  0.138310 -0.324855  0.306181\n",
      "\n",
      "[189082 rows x 5 columns]\n",
      "0         0\n",
      "1         0\n",
      "2         0\n",
      "3         0\n",
      "4         0\n",
      "         ..\n",
      "189077    1\n",
      "189078    1\n",
      "189079    1\n",
      "189080    1\n",
      "189081    1\n",
      "Name: __destino, Length: 189082, dtype: int64\n"
     ]
    }
   ],
   "source": [
    "#2 Separar las características de entrada y de salida (objetivo)\n",
    "input = df.drop(columns=['__destino'])\n",
    "output = df['__destino']\n",
    "\n",
    "print(input)\n",
    "print(output)"
   ]
  },
  {
   "cell_type": "code",
   "execution_count": 4,
   "metadata": {},
   "outputs": [
    {
     "name": "stdout",
     "output_type": "stream",
     "text": [
      "0         0\n",
      "1         0\n",
      "2         0\n",
      "3         0\n",
      "4         0\n",
      "         ..\n",
      "189077    1\n",
      "189078    1\n",
      "189079    1\n",
      "189080    1\n",
      "189081    1\n",
      "Name: __destino, Length: 189082, dtype: int64\n"
     ]
    }
   ],
   "source": [
    "# Convertir la salida a categorías\n",
    "#output = to_categorical(output)\n",
    "print(output)"
   ]
  },
  {
   "cell_type": "code",
   "execution_count": 5,
   "metadata": {},
   "outputs": [],
   "source": [
    "#3 Dividir los datos en conjuntos de entrenamiento 80% y prueba 20% \n",
    "input_train, input_test, output_train, output_test = train_test_split(input, output, test_size=0.2, random_state=42)"
   ]
  },
  {
   "cell_type": "code",
   "execution_count": 6,
   "metadata": {},
   "outputs": [],
   "source": [
    "#4 Construir el modelo dela red neuronal (Perceptron multicapa)\n",
    "def MLP_NN():\n",
    "    NumNeurons = 7\n",
    "    model = Sequential()\n",
    "    model.add(Dense(64, input_dim=input_train.shape[1]))\n",
    "    model.add(LeakyReLU(alpha=0.01))\n",
    "    model.add(Dropout(0.5))\n",
    "    model.add(Dense(32))\n",
    "    model.add(LeakyReLU(alpha=0.01))\n",
    "    model.add(Dropout(0.5))\n",
    "    model.add(Dense(1, activation='sigmoid'))  # Usar 'softmax' para clasificación multiclase\n",
    "\n",
    "    #opt =  keras.optimizers.Adam(learning_rate=0.001)\n",
    "\n",
    "    # Compilar el modelo\n",
    "    optimizer = Adam(learning_rate=0.001)\n",
    "    model.compile(loss='binary_crossentropy', optimizer=optimizer, metrics=['accuracy'])\n",
    "    return model\n"
   ]
  },
  {
   "cell_type": "code",
   "execution_count": 7,
   "metadata": {},
   "outputs": [
    {
     "name": "stdout",
     "output_type": "stream",
     "text": [
      "Epoch 1/500\n",
      "3782/3782 [==============================] - 17s 4ms/step - loss: 0.6545 - accuracy: 0.6078 - val_loss: 0.6272 - val_accuracy: 0.6370\n",
      "Epoch 2/500\n",
      "3782/3782 [==============================] - 14s 4ms/step - loss: 0.6357 - accuracy: 0.6302 - val_loss: 0.6233 - val_accuracy: 0.6373\n",
      "Epoch 3/500\n",
      "3782/3782 [==============================] - 14s 4ms/step - loss: 0.6320 - accuracy: 0.6328 - val_loss: 0.6230 - val_accuracy: 0.6397\n",
      "Epoch 4/500\n",
      "3782/3782 [==============================] - 14s 4ms/step - loss: 0.6304 - accuracy: 0.6352 - val_loss: 0.6211 - val_accuracy: 0.6371\n",
      "Epoch 5/500\n",
      "3782/3782 [==============================] - 14s 4ms/step - loss: 0.6290 - accuracy: 0.6357 - val_loss: 0.6192 - val_accuracy: 0.6381\n",
      "Epoch 6/500\n",
      "3782/3782 [==============================] - 14s 4ms/step - loss: 0.6273 - accuracy: 0.6387 - val_loss: 0.6184 - val_accuracy: 0.6409\n",
      "Epoch 7/500\n",
      "3782/3782 [==============================] - 14s 4ms/step - loss: 0.6270 - accuracy: 0.6383 - val_loss: 0.6210 - val_accuracy: 0.6422\n",
      "Epoch 8/500\n",
      "3782/3782 [==============================] - 14s 4ms/step - loss: 0.6263 - accuracy: 0.6397 - val_loss: 0.6167 - val_accuracy: 0.6447\n",
      "Epoch 9/500\n",
      "3782/3782 [==============================] - 14s 4ms/step - loss: 0.6252 - accuracy: 0.6396 - val_loss: 0.6169 - val_accuracy: 0.6426\n",
      "Epoch 10/500\n",
      "3782/3782 [==============================] - 14s 4ms/step - loss: 0.6260 - accuracy: 0.6390 - val_loss: 0.6167 - val_accuracy: 0.6440\n",
      "Epoch 11/500\n",
      "3782/3782 [==============================] - 14s 4ms/step - loss: 0.6251 - accuracy: 0.6407 - val_loss: 0.6154 - val_accuracy: 0.6463\n",
      "Epoch 12/500\n",
      "3782/3782 [==============================] - 15s 4ms/step - loss: 0.6255 - accuracy: 0.6414 - val_loss: 0.6167 - val_accuracy: 0.6491\n",
      "Epoch 13/500\n",
      "3782/3782 [==============================] - 15s 4ms/step - loss: 0.6250 - accuracy: 0.6409 - val_loss: 0.6146 - val_accuracy: 0.6462\n",
      "Epoch 14/500\n",
      "3782/3782 [==============================] - 14s 4ms/step - loss: 0.6247 - accuracy: 0.6420 - val_loss: 0.6160 - val_accuracy: 0.6461\n",
      "Epoch 15/500\n",
      "3782/3782 [==============================] - 14s 4ms/step - loss: 0.6250 - accuracy: 0.6419 - val_loss: 0.6161 - val_accuracy: 0.6477\n",
      "Epoch 16/500\n",
      "3782/3782 [==============================] - 15s 4ms/step - loss: 0.6248 - accuracy: 0.6411 - val_loss: 0.6173 - val_accuracy: 0.6479\n",
      "Epoch 17/500\n",
      "3782/3782 [==============================] - 14s 4ms/step - loss: 0.6240 - accuracy: 0.6425 - val_loss: 0.6145 - val_accuracy: 0.6502\n",
      "Epoch 18/500\n",
      "3782/3782 [==============================] - 14s 4ms/step - loss: 0.6250 - accuracy: 0.6407 - val_loss: 0.6144 - val_accuracy: 0.6490\n",
      "Epoch 19/500\n",
      "3782/3782 [==============================] - 15s 4ms/step - loss: 0.6238 - accuracy: 0.6424 - val_loss: 0.6134 - val_accuracy: 0.6485\n",
      "Epoch 20/500\n",
      "3782/3782 [==============================] - 15s 4ms/step - loss: 0.6244 - accuracy: 0.6418 - val_loss: 0.6152 - val_accuracy: 0.6479\n",
      "Epoch 21/500\n",
      "3782/3782 [==============================] - 15s 4ms/step - loss: 0.6234 - accuracy: 0.6429 - val_loss: 0.6133 - val_accuracy: 0.6497\n",
      "Epoch 22/500\n",
      "3782/3782 [==============================] - 15s 4ms/step - loss: 0.6243 - accuracy: 0.6419 - val_loss: 0.6144 - val_accuracy: 0.6512\n",
      "Epoch 23/500\n",
      "3782/3782 [==============================] - 15s 4ms/step - loss: 0.6237 - accuracy: 0.6434 - val_loss: 0.6150 - val_accuracy: 0.6501\n",
      "Epoch 24/500\n",
      "3782/3782 [==============================] - 15s 4ms/step - loss: 0.6237 - accuracy: 0.6429 - val_loss: 0.6154 - val_accuracy: 0.6485\n",
      "Epoch 25/500\n",
      "3782/3782 [==============================] - 15s 4ms/step - loss: 0.6231 - accuracy: 0.6441 - val_loss: 0.6147 - val_accuracy: 0.6512\n",
      "Epoch 26/500\n",
      "3782/3782 [==============================] - 15s 4ms/step - loss: 0.6231 - accuracy: 0.6433 - val_loss: 0.6134 - val_accuracy: 0.6480\n",
      "Epoch 27/500\n",
      "3782/3782 [==============================] - 15s 4ms/step - loss: 0.6234 - accuracy: 0.6440 - val_loss: 0.6141 - val_accuracy: 0.6505\n",
      "Epoch 28/500\n",
      "3782/3782 [==============================] - 15s 4ms/step - loss: 0.6234 - accuracy: 0.6435 - val_loss: 0.6130 - val_accuracy: 0.6489\n",
      "Epoch 29/500\n",
      "3782/3782 [==============================] - 15s 4ms/step - loss: 0.6233 - accuracy: 0.6426 - val_loss: 0.6137 - val_accuracy: 0.6492\n",
      "Epoch 30/500\n",
      "3782/3782 [==============================] - 15s 4ms/step - loss: 0.6235 - accuracy: 0.6421 - val_loss: 0.6136 - val_accuracy: 0.6508\n",
      "Epoch 31/500\n",
      "3782/3782 [==============================] - 15s 4ms/step - loss: 0.6233 - accuracy: 0.6448 - val_loss: 0.6152 - val_accuracy: 0.6492\n",
      "Epoch 32/500\n",
      "3782/3782 [==============================] - 15s 4ms/step - loss: 0.6233 - accuracy: 0.6446 - val_loss: 0.6129 - val_accuracy: 0.6513\n",
      "Epoch 33/500\n",
      "3782/3782 [==============================] - 15s 4ms/step - loss: 0.6229 - accuracy: 0.6428 - val_loss: 0.6121 - val_accuracy: 0.6483\n",
      "Epoch 34/500\n",
      "3782/3782 [==============================] - 15s 4ms/step - loss: 0.6228 - accuracy: 0.6454 - val_loss: 0.6137 - val_accuracy: 0.6536\n",
      "Epoch 35/500\n",
      "3782/3782 [==============================] - 15s 4ms/step - loss: 0.6231 - accuracy: 0.6452 - val_loss: 0.6128 - val_accuracy: 0.6509\n",
      "Epoch 36/500\n",
      "3782/3782 [==============================] - 15s 4ms/step - loss: 0.6225 - accuracy: 0.6445 - val_loss: 0.6121 - val_accuracy: 0.6506\n",
      "Epoch 37/500\n",
      "3782/3782 [==============================] - 14s 4ms/step - loss: 0.6229 - accuracy: 0.6434 - val_loss: 0.6129 - val_accuracy: 0.6531\n",
      "Epoch 38/500\n",
      "3782/3782 [==============================] - 14s 4ms/step - loss: 0.6224 - accuracy: 0.6452 - val_loss: 0.6122 - val_accuracy: 0.6511\n",
      "Epoch 39/500\n",
      "3782/3782 [==============================] - 15s 4ms/step - loss: 0.6227 - accuracy: 0.6434 - val_loss: 0.6131 - val_accuracy: 0.6508\n",
      "Epoch 40/500\n",
      "3782/3782 [==============================] - 14s 4ms/step - loss: 0.6222 - accuracy: 0.6453 - val_loss: 0.6120 - val_accuracy: 0.6507\n",
      "Epoch 41/500\n",
      "3782/3782 [==============================] - 14s 4ms/step - loss: 0.6226 - accuracy: 0.6445 - val_loss: 0.6153 - val_accuracy: 0.6516\n",
      "Epoch 42/500\n",
      "3782/3782 [==============================] - 15s 4ms/step - loss: 0.6226 - accuracy: 0.6444 - val_loss: 0.6114 - val_accuracy: 0.6524\n",
      "Epoch 43/500\n",
      "3782/3782 [==============================] - 15s 4ms/step - loss: 0.6231 - accuracy: 0.6438 - val_loss: 0.6138 - val_accuracy: 0.6503\n",
      "Epoch 44/500\n",
      "3782/3782 [==============================] - 15s 4ms/step - loss: 0.6226 - accuracy: 0.6446 - val_loss: 0.6128 - val_accuracy: 0.6529\n",
      "Epoch 45/500\n",
      "3782/3782 [==============================] - 16s 4ms/step - loss: 0.6227 - accuracy: 0.6457 - val_loss: 0.6134 - val_accuracy: 0.6520\n",
      "Epoch 46/500\n",
      "3782/3782 [==============================] - 15s 4ms/step - loss: 0.6228 - accuracy: 0.6444 - val_loss: 0.6139 - val_accuracy: 0.6496\n",
      "Epoch 47/500\n",
      "3782/3782 [==============================] - 15s 4ms/step - loss: 0.6224 - accuracy: 0.6456 - val_loss: 0.6146 - val_accuracy: 0.6522\n",
      "Epoch 48/500\n",
      "3782/3782 [==============================] - 15s 4ms/step - loss: 0.6220 - accuracy: 0.6449 - val_loss: 0.6139 - val_accuracy: 0.6511\n",
      "Epoch 49/500\n",
      "3782/3782 [==============================] - 14s 4ms/step - loss: 0.6224 - accuracy: 0.6452 - val_loss: 0.6122 - val_accuracy: 0.6526\n",
      "Epoch 50/500\n",
      "3782/3782 [==============================] - 14s 4ms/step - loss: 0.6220 - accuracy: 0.6452 - val_loss: 0.6127 - val_accuracy: 0.6504\n",
      "Epoch 51/500\n",
      "3782/3782 [==============================] - 14s 4ms/step - loss: 0.6228 - accuracy: 0.6451 - val_loss: 0.6122 - val_accuracy: 0.6514\n",
      "Epoch 52/500\n",
      "3782/3782 [==============================] - 14s 4ms/step - loss: 0.6226 - accuracy: 0.6452 - val_loss: 0.6138 - val_accuracy: 0.6535\n"
     ]
    }
   ],
   "source": [
    "#5 Entrenar el modelo\n",
    "n_epochs = 500\n",
    "#network = MLP_NN()\n",
    "#train = network.fit(input_train, output_train, epochs=n_epochs, batch_size=32, validation_split=0.2)\n",
    "\n",
    "\n",
    "network = MLP_NN()\n",
    "early_stopping = EarlyStopping(monitor='val_loss', patience=10, restore_best_weights=True)\n",
    "train = network.fit(input_train, output_train, epochs=n_epochs, batch_size=32, validation_split=0.2, callbacks=[early_stopping])\n"
   ]
  },
  {
   "cell_type": "code",
   "execution_count": 8,
   "metadata": {},
   "outputs": [
    {
     "name": "stdout",
     "output_type": "stream",
     "text": [
      "1182/1182 [==============================] - 3s 3ms/step - loss: 0.6112 - accuracy: 0.6540\n",
      "Precisión en el conjunto de prueba: 0.65\n"
     ]
    }
   ],
   "source": [
    "#6 Evaluar el modelo\n",
    "loss, accuracy = network.evaluate(input_test, output_test)\n",
    "print(f\"Precisión en el conjunto de prueba: {accuracy:.2f}\")"
   ]
  },
  {
   "cell_type": "code",
   "execution_count": null,
   "metadata": {},
   "outputs": [
    {
     "name": "stdout",
     "output_type": "stream",
     "text": [
      "1182/1182 [==============================] - 3s 3ms/step\n",
      "Predicciones (probabilidades):\n",
      "[[0.42583144]\n",
      " [0.43740487]\n",
      " [0.48779157]\n",
      " ...\n",
      " [0.6191686 ]\n",
      " [0.79937065]\n",
      " [0.54637444]]\n",
      "Clases predichas:\n",
      "[0 0 0 ... 1 1 1]\n",
      "Clases reales:\n",
      "35960     0\n",
      "46028     0\n",
      "39676     0\n",
      "169288    1\n",
      "41981     0\n",
      "         ..\n",
      "116898    1\n",
      "164941    1\n",
      "117280    1\n",
      "180830    1\n",
      "159884    1\n",
      "Name: __destino, Length: 37817, dtype: int64\n"
     ]
    }
   ],
   "source": [
    "#7 Predicciones\n",
    "output_pred = network.predict(input_test)\n",
    "print(\"Predicciones (probabilidades):\")\n",
    "print(output_pred)\n",
    "\n",
    "#output_pred_classes = np.argmax(output_pred, axis=1)\n",
    "#print(output_pred_classes)\n",
    "\n",
    "# Convertir probabilidades a clases binarias\n",
    "output_pred_classes = (output_pred > 0.5).astype(int)  # Umbral de 0.5\n",
    "print(\"Clases predichas:\")\n",
    "print(output_pred_classes.flatten())  # Asegura que el resultado sea un vector 1D\n",
    "\n",
    "# Convertir el conjunto de prueba a clases binarias (si es necesario)\n",
    "#output_test_classes = np.argmax(output_test, axis=1)\n",
    "output_test_classes = output_test  # Si ya está en formato binario\n",
    "print(\"Clases reales:\")\n",
    "print(output_test_classes)"
   ]
  },
  {
   "cell_type": "code",
   "execution_count": 12,
   "metadata": {},
   "outputs": [
    {
     "name": "stdout",
     "output_type": "stream",
     "text": [
      "              precision    recall  f1-score   support\n",
      "\n",
      "           0       0.67      0.60      0.63     18942\n",
      "           1       0.64      0.71      0.67     18875\n",
      "\n",
      "    accuracy                           0.65     37817\n",
      "   macro avg       0.66      0.65      0.65     37817\n",
      "weighted avg       0.66      0.65      0.65     37817\n",
      "\n"
     ]
    }
   ],
   "source": [
    "#8 Generar el reporte de clasificación\n",
    "print(classification_report(output_test_classes, output_pred_classes))"
   ]
  },
  {
   "cell_type": "code",
   "execution_count": 13,
   "metadata": {},
   "outputs": [
    {
     "name": "stdout",
     "output_type": "stream",
     "text": [
      "[[11312  7630]\n",
      " [ 5455 13420]]\n"
     ]
    }
   ],
   "source": [
    "#9 Matriz de confusión\n",
    "print(confusion_matrix(output_test_classes, output_pred_classes))"
   ]
  },
  {
   "cell_type": "code",
   "execution_count": 16,
   "metadata": {},
   "outputs": [
    {
     "name": "stdout",
     "output_type": "stream",
     "text": [
      "4728/4728 [==============================] - 14s 3ms/step\n",
      "[[45129 30470]\n",
      " [22032 53634]]\n"
     ]
    }
   ],
   "source": [
    "# Matriz de confusión con datos de entrenamiento\n",
    "output_train_pred = network.predict(input_train)\n",
    "#output_train_pred_classes = np.argmax(output_train_pred, axis=1)\n",
    "output_train_pred_classes = (output_train_pred > 0.5).astype(int)\n",
    "#output_train_classes = np.argmax(output_train, axis=1)\n",
    "output_train_classes = output_train\n",
    "print(confusion_matrix(output_train_classes, output_train_pred_classes))"
   ]
  },
  {
   "cell_type": "code",
   "execution_count": null,
   "metadata": {},
   "outputs": [
    {
     "name": "stderr",
     "output_type": "stream",
     "text": [
      "/home/manny/.local/lib/python3.8/site-packages/keras/src/engine/training.py:3000: UserWarning: You are saving your model as an HDF5 file via `model.save()`. This file format is considered legacy. We recommend using instead the native Keras format, e.g. `model.save('my_model.keras')`.\n",
      "  saving_api.save_model(\n"
     ]
    }
   ],
   "source": [
    "# Guardar el modelo y el escalador\n",
    "network.save('modelo/modelo_entrenado.h5')"
   ]
  }
 ],
 "metadata": {
  "kernelspec": {
   "display_name": "Python 3",
   "language": "python",
   "name": "python3"
  },
  "language_info": {
   "codemirror_mode": {
    "name": "ipython",
    "version": 3
   },
   "file_extension": ".py",
   "mimetype": "text/x-python",
   "name": "python",
   "nbconvert_exporter": "python",
   "pygments_lexer": "ipython3",
   "version": "3.12.8"
  }
 },
 "nbformat": 4,
 "nbformat_minor": 2
}

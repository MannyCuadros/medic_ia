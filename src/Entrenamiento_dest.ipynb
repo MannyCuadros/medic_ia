{
 "cells": [
  {
   "cell_type": "markdown",
   "metadata": {},
   "source": [
    "ENTRENAMIENTO Y EVALUACIÓN"
   ]
  },
  {
   "cell_type": "code",
   "execution_count": 1,
   "metadata": {},
   "outputs": [],
   "source": [
    "import pandas as pd\n",
    "import numpy as np\n",
    "import collections as cols\n",
    "from sklearn.preprocessing import LabelEncoder, StandardScaler\n",
    "from sklearn.model_selection import train_test_split\n",
    "from tensorflow.keras.models import Sequential\n",
    "from tensorflow.keras.layers import Dense, Activation, Dropout, LeakyReLU\n",
    "from tensorflow.keras.optimizers import Adam\n",
    "from tensorflow.keras.utils import to_categorical\n",
    "from sklearn.metrics import classification_report, confusion_matrix\n",
    "from tensorflow.keras.layers import LeakyReLU\n",
    "from tensorflow.keras.callbacks import EarlyStopping"
   ]
  },
  {
   "cell_type": "markdown",
   "metadata": {},
   "source": []
  },
  {
   "cell_type": "code",
   "execution_count": 2,
   "metadata": {},
   "outputs": [],
   "source": [
    "#1 Cargar los datos preprocesados\n",
    "file_path = 'databases/Base de datos para desarrollo v2_dest(preprocesada).csv'\n",
    "df = pd.read_csv(file_path)"
   ]
  },
  {
   "cell_type": "code",
   "execution_count": 3,
   "metadata": {},
   "outputs": [
    {
     "name": "stdout",
     "output_type": "stream",
     "text": [
      "        __temperatura   __pulso     __pas     __pad   __sat02\n",
      "0            0.229959 -0.141229 -0.090837 -0.514129  0.166636\n",
      "1           -4.667926 -3.667914 -2.134067 -2.059868 -6.671051\n",
      "2           -4.667926 -1.223280  0.405649  0.495334  0.236409\n",
      "3            0.229959  1.902645  1.379525  1.094702  0.306181\n",
      "4            0.203121  0.980898 -0.530036  0.179877  0.236409\n",
      "...               ...       ...       ...       ...       ...\n",
      "189077       0.109189  0.099227 -0.186315 -0.514129  0.306181\n",
      "189078       0.068933  0.540062 -0.186315 -0.514129  0.027092\n",
      "189079       0.082352 -0.702292  0.653892  0.810791  0.166636\n",
      "189080       0.162865 -0.501913  0.443840  0.400697  0.236409\n",
      "189081       0.229959 -1.062976  0.138310 -0.324855  0.306181\n",
      "\n",
      "[189082 rows x 5 columns]\n",
      "0         0\n",
      "1         0\n",
      "2         0\n",
      "3         0\n",
      "4         0\n",
      "         ..\n",
      "189077    1\n",
      "189078    1\n",
      "189079    1\n",
      "189080    1\n",
      "189081    1\n",
      "Name: __destino, Length: 189082, dtype: int64\n"
     ]
    }
   ],
   "source": [
    "#2 Separar las características de entrada y de salida (objetivo)\n",
    "input = df.drop(columns=['__destino'])\n",
    "output = df['__destino']\n",
    "\n",
    "print(input)\n",
    "print(output)"
   ]
  },
  {
   "cell_type": "code",
   "execution_count": 4,
   "metadata": {},
   "outputs": [
    {
     "name": "stdout",
     "output_type": "stream",
     "text": [
      "[[1. 0.]\n",
      " [1. 0.]\n",
      " [1. 0.]\n",
      " ...\n",
      " [0. 1.]\n",
      " [0. 1.]\n",
      " [0. 1.]]\n"
     ]
    }
   ],
   "source": [
    "# Convertir la salida a categorías\n",
    "output = to_categorical(output)\n",
    "print(output)"
   ]
  },
  {
   "cell_type": "code",
   "execution_count": 5,
   "metadata": {},
   "outputs": [],
   "source": [
    "#3 Dividir los datos en conjuntos de entrenamiento 80% y prueba 20% \n",
    "input_train, input_test, output_train, output_test = train_test_split(input, output, test_size=0.2, random_state=42)"
   ]
  },
  {
   "cell_type": "code",
   "execution_count": 6,
   "metadata": {},
   "outputs": [],
   "source": [
    "#4 Construir el modelo dela red neuronal (Perceptron multicapa)\n",
    "def MLP_NN():\n",
    "    NumNeurons = 7\n",
    "    model = Sequential()\n",
    "    model.add(Dense(64, input_dim=input_train.shape[1]))\n",
    "    model.add(LeakyReLU(alpha=0.01))\n",
    "    model.add(Dropout(0.5))\n",
    "    model.add(Dense(32))\n",
    "    model.add(LeakyReLU(alpha=0.01))\n",
    "    model.add(Dropout(0.5))\n",
    "    model.add(Dense(output.shape[1], activation='softmax'))  # Usar 'softmax' para clasificación multiclase\n",
    "\n",
    "    #opt =  keras.optimizers.Adam(learning_rate=0.001)\n",
    "\n",
    "    # Compilar el modelo\n",
    "    optimizer = Adam(learning_rate=0.001)\n",
    "    model.compile(loss='categorical_crossentropy', optimizer=optimizer, metrics=['accuracy'])\n",
    "    return model\n"
   ]
  },
  {
   "cell_type": "code",
   "execution_count": 7,
   "metadata": {},
   "outputs": [
    {
     "name": "stdout",
     "output_type": "stream",
     "text": [
      "Epoch 1/500\n",
      "3782/3782 [==============================] - 20s 5ms/step - loss: 0.6540 - accuracy: 0.6094 - val_loss: 0.6269 - val_accuracy: 0.6369\n",
      "Epoch 2/500\n",
      "3782/3782 [==============================] - 16s 4ms/step - loss: 0.6344 - accuracy: 0.6331 - val_loss: 0.6219 - val_accuracy: 0.6389\n",
      "Epoch 3/500\n",
      "3782/3782 [==============================] - 16s 4ms/step - loss: 0.6306 - accuracy: 0.6351 - val_loss: 0.6218 - val_accuracy: 0.6386\n",
      "Epoch 4/500\n",
      "3782/3782 [==============================] - 14s 4ms/step - loss: 0.6284 - accuracy: 0.6380 - val_loss: 0.6189 - val_accuracy: 0.6459\n",
      "Epoch 5/500\n",
      "3782/3782 [==============================] - 15s 4ms/step - loss: 0.6266 - accuracy: 0.6398 - val_loss: 0.6181 - val_accuracy: 0.6438\n",
      "Epoch 6/500\n",
      "3782/3782 [==============================] - 15s 4ms/step - loss: 0.6265 - accuracy: 0.6399 - val_loss: 0.6184 - val_accuracy: 0.6419\n",
      "Epoch 7/500\n",
      "3782/3782 [==============================] - 15s 4ms/step - loss: 0.6258 - accuracy: 0.6403 - val_loss: 0.6156 - val_accuracy: 0.6436\n",
      "Epoch 8/500\n",
      "3782/3782 [==============================] - 14s 4ms/step - loss: 0.6261 - accuracy: 0.6410 - val_loss: 0.6163 - val_accuracy: 0.6484\n",
      "Epoch 9/500\n",
      "3782/3782 [==============================] - 14s 4ms/step - loss: 0.6256 - accuracy: 0.6420 - val_loss: 0.6164 - val_accuracy: 0.6498\n",
      "Epoch 10/500\n",
      "3782/3782 [==============================] - 13s 4ms/step - loss: 0.6254 - accuracy: 0.6417 - val_loss: 0.6138 - val_accuracy: 0.6487\n",
      "Epoch 11/500\n",
      "3782/3782 [==============================] - 14s 4ms/step - loss: 0.6249 - accuracy: 0.6427 - val_loss: 0.6148 - val_accuracy: 0.6466\n",
      "Epoch 12/500\n",
      "3782/3782 [==============================] - 15s 4ms/step - loss: 0.6246 - accuracy: 0.6412 - val_loss: 0.6149 - val_accuracy: 0.6462\n",
      "Epoch 13/500\n",
      "3782/3782 [==============================] - 13s 4ms/step - loss: 0.6247 - accuracy: 0.6420 - val_loss: 0.6152 - val_accuracy: 0.6479\n",
      "Epoch 14/500\n",
      "3782/3782 [==============================] - 14s 4ms/step - loss: 0.6238 - accuracy: 0.6426 - val_loss: 0.6148 - val_accuracy: 0.6461\n",
      "Epoch 15/500\n",
      "3782/3782 [==============================] - 13s 4ms/step - loss: 0.6237 - accuracy: 0.6434 - val_loss: 0.6138 - val_accuracy: 0.6508\n",
      "Epoch 16/500\n",
      "3782/3782 [==============================] - 13s 3ms/step - loss: 0.6238 - accuracy: 0.6419 - val_loss: 0.6130 - val_accuracy: 0.6474\n",
      "Epoch 17/500\n",
      "3782/3782 [==============================] - 14s 4ms/step - loss: 0.6247 - accuracy: 0.6421 - val_loss: 0.6141 - val_accuracy: 0.6475\n",
      "Epoch 18/500\n",
      "3782/3782 [==============================] - 17s 4ms/step - loss: 0.6243 - accuracy: 0.6427 - val_loss: 0.6130 - val_accuracy: 0.6468\n",
      "Epoch 19/500\n",
      "3782/3782 [==============================] - 17s 4ms/step - loss: 0.6234 - accuracy: 0.6422 - val_loss: 0.6136 - val_accuracy: 0.6474\n",
      "Epoch 20/500\n",
      "3782/3782 [==============================] - 16s 4ms/step - loss: 0.6237 - accuracy: 0.6420 - val_loss: 0.6143 - val_accuracy: 0.6502\n",
      "Epoch 21/500\n",
      "3782/3782 [==============================] - 16s 4ms/step - loss: 0.6241 - accuracy: 0.6422 - val_loss: 0.6140 - val_accuracy: 0.6468\n",
      "Epoch 22/500\n",
      "3782/3782 [==============================] - 16s 4ms/step - loss: 0.6237 - accuracy: 0.6426 - val_loss: 0.6125 - val_accuracy: 0.6469\n",
      "Epoch 23/500\n",
      "3782/3782 [==============================] - 17s 4ms/step - loss: 0.6235 - accuracy: 0.6420 - val_loss: 0.6127 - val_accuracy: 0.6473\n",
      "Epoch 24/500\n",
      "3782/3782 [==============================] - 16s 4ms/step - loss: 0.6225 - accuracy: 0.6427 - val_loss: 0.6130 - val_accuracy: 0.6470\n",
      "Epoch 25/500\n",
      "3782/3782 [==============================] - 16s 4ms/step - loss: 0.6226 - accuracy: 0.6439 - val_loss: 0.6121 - val_accuracy: 0.6469\n",
      "Epoch 26/500\n",
      "3782/3782 [==============================] - 16s 4ms/step - loss: 0.6236 - accuracy: 0.6441 - val_loss: 0.6137 - val_accuracy: 0.6484\n",
      "Epoch 27/500\n",
      "3782/3782 [==============================] - 17s 4ms/step - loss: 0.6236 - accuracy: 0.6417 - val_loss: 0.6128 - val_accuracy: 0.6499\n",
      "Epoch 28/500\n",
      "3782/3782 [==============================] - 16s 4ms/step - loss: 0.6235 - accuracy: 0.6411 - val_loss: 0.6125 - val_accuracy: 0.6472\n",
      "Epoch 29/500\n",
      "3782/3782 [==============================] - 17s 4ms/step - loss: 0.6233 - accuracy: 0.6439 - val_loss: 0.6143 - val_accuracy: 0.6494\n",
      "Epoch 30/500\n",
      "3782/3782 [==============================] - 17s 4ms/step - loss: 0.6235 - accuracy: 0.6422 - val_loss: 0.6127 - val_accuracy: 0.6476\n",
      "Epoch 31/500\n",
      "3782/3782 [==============================] - 17s 4ms/step - loss: 0.6228 - accuracy: 0.6441 - val_loss: 0.6127 - val_accuracy: 0.6469\n",
      "Epoch 32/500\n",
      "3782/3782 [==============================] - 16s 4ms/step - loss: 0.6230 - accuracy: 0.6444 - val_loss: 0.6131 - val_accuracy: 0.6507\n",
      "Epoch 33/500\n",
      "3782/3782 [==============================] - 16s 4ms/step - loss: 0.6232 - accuracy: 0.6427 - val_loss: 0.6142 - val_accuracy: 0.6488\n",
      "Epoch 34/500\n",
      "3782/3782 [==============================] - 17s 4ms/step - loss: 0.6230 - accuracy: 0.6428 - val_loss: 0.6118 - val_accuracy: 0.6494\n",
      "Epoch 35/500\n",
      "3782/3782 [==============================] - 17s 4ms/step - loss: 0.6229 - accuracy: 0.6432 - val_loss: 0.6140 - val_accuracy: 0.6490\n",
      "Epoch 36/500\n",
      "3782/3782 [==============================] - 17s 4ms/step - loss: 0.6232 - accuracy: 0.6445 - val_loss: 0.6122 - val_accuracy: 0.6480\n",
      "Epoch 37/500\n",
      "3782/3782 [==============================] - 17s 4ms/step - loss: 0.6226 - accuracy: 0.6428 - val_loss: 0.6129 - val_accuracy: 0.6496\n",
      "Epoch 38/500\n",
      "3782/3782 [==============================] - 17s 4ms/step - loss: 0.6228 - accuracy: 0.6444 - val_loss: 0.6124 - val_accuracy: 0.6497\n",
      "Epoch 39/500\n",
      "3782/3782 [==============================] - 17s 5ms/step - loss: 0.6221 - accuracy: 0.6451 - val_loss: 0.6117 - val_accuracy: 0.6482\n",
      "Epoch 40/500\n",
      "3782/3782 [==============================] - 16s 4ms/step - loss: 0.6220 - accuracy: 0.6434 - val_loss: 0.6118 - val_accuracy: 0.6511\n",
      "Epoch 41/500\n",
      "3782/3782 [==============================] - 16s 4ms/step - loss: 0.6226 - accuracy: 0.6453 - val_loss: 0.6119 - val_accuracy: 0.6490\n",
      "Epoch 42/500\n",
      "3782/3782 [==============================] - 13s 4ms/step - loss: 0.6224 - accuracy: 0.6448 - val_loss: 0.6112 - val_accuracy: 0.6502\n",
      "Epoch 43/500\n",
      "3782/3782 [==============================] - 13s 3ms/step - loss: 0.6232 - accuracy: 0.6436 - val_loss: 0.6117 - val_accuracy: 0.6507\n",
      "Epoch 44/500\n",
      "3782/3782 [==============================] - 13s 3ms/step - loss: 0.6230 - accuracy: 0.6450 - val_loss: 0.6130 - val_accuracy: 0.6465\n",
      "Epoch 45/500\n",
      "3782/3782 [==============================] - 13s 3ms/step - loss: 0.6229 - accuracy: 0.6441 - val_loss: 0.6125 - val_accuracy: 0.6487\n",
      "Epoch 46/500\n",
      "3782/3782 [==============================] - 14s 4ms/step - loss: 0.6225 - accuracy: 0.6447 - val_loss: 0.6130 - val_accuracy: 0.6508\n",
      "Epoch 47/500\n",
      "3782/3782 [==============================] - 13s 3ms/step - loss: 0.6223 - accuracy: 0.6453 - val_loss: 0.6113 - val_accuracy: 0.6501\n",
      "Epoch 48/500\n",
      "3782/3782 [==============================] - 13s 3ms/step - loss: 0.6227 - accuracy: 0.6445 - val_loss: 0.6112 - val_accuracy: 0.6482\n",
      "Epoch 49/500\n",
      "3782/3782 [==============================] - 13s 3ms/step - loss: 0.6229 - accuracy: 0.6439 - val_loss: 0.6123 - val_accuracy: 0.6494\n",
      "Epoch 50/500\n",
      "3782/3782 [==============================] - 13s 3ms/step - loss: 0.6235 - accuracy: 0.6434 - val_loss: 0.6124 - val_accuracy: 0.6512\n",
      "Epoch 51/500\n",
      "3782/3782 [==============================] - 13s 3ms/step - loss: 0.6226 - accuracy: 0.6451 - val_loss: 0.6124 - val_accuracy: 0.6483\n",
      "Epoch 52/500\n",
      "3782/3782 [==============================] - 13s 3ms/step - loss: 0.6224 - accuracy: 0.6444 - val_loss: 0.6122 - val_accuracy: 0.6478\n",
      "Epoch 53/500\n",
      "3782/3782 [==============================] - 13s 3ms/step - loss: 0.6228 - accuracy: 0.6439 - val_loss: 0.6131 - val_accuracy: 0.6513\n",
      "Epoch 54/500\n",
      "3782/3782 [==============================] - 13s 3ms/step - loss: 0.6220 - accuracy: 0.6448 - val_loss: 0.6123 - val_accuracy: 0.6523\n",
      "Epoch 55/500\n",
      "3782/3782 [==============================] - 13s 3ms/step - loss: 0.6223 - accuracy: 0.6428 - val_loss: 0.6147 - val_accuracy: 0.6506\n",
      "Epoch 56/500\n",
      "3782/3782 [==============================] - 13s 4ms/step - loss: 0.6223 - accuracy: 0.6446 - val_loss: 0.6125 - val_accuracy: 0.6524\n",
      "Epoch 57/500\n",
      "3782/3782 [==============================] - 13s 3ms/step - loss: 0.6224 - accuracy: 0.6430 - val_loss: 0.6118 - val_accuracy: 0.6506\n",
      "Epoch 58/500\n",
      "3782/3782 [==============================] - 14s 4ms/step - loss: 0.6223 - accuracy: 0.6459 - val_loss: 0.6110 - val_accuracy: 0.6480\n",
      "Epoch 59/500\n",
      "3782/3782 [==============================] - 14s 4ms/step - loss: 0.6221 - accuracy: 0.6451 - val_loss: 0.6132 - val_accuracy: 0.6513\n",
      "Epoch 60/500\n",
      "3782/3782 [==============================] - 13s 3ms/step - loss: 0.6226 - accuracy: 0.6449 - val_loss: 0.6131 - val_accuracy: 0.6508\n",
      "Epoch 61/500\n",
      "3782/3782 [==============================] - 13s 3ms/step - loss: 0.6218 - accuracy: 0.6434 - val_loss: 0.6128 - val_accuracy: 0.6518\n",
      "Epoch 62/500\n",
      "3782/3782 [==============================] - 13s 3ms/step - loss: 0.6211 - accuracy: 0.6458 - val_loss: 0.6106 - val_accuracy: 0.6516\n",
      "Epoch 63/500\n",
      "3782/3782 [==============================] - 13s 3ms/step - loss: 0.6220 - accuracy: 0.6463 - val_loss: 0.6107 - val_accuracy: 0.6503\n",
      "Epoch 64/500\n",
      "3782/3782 [==============================] - 13s 3ms/step - loss: 0.6214 - accuracy: 0.6450 - val_loss: 0.6113 - val_accuracy: 0.6509\n",
      "Epoch 65/500\n",
      "3782/3782 [==============================] - 13s 3ms/step - loss: 0.6226 - accuracy: 0.6437 - val_loss: 0.6119 - val_accuracy: 0.6491\n",
      "Epoch 66/500\n",
      "3782/3782 [==============================] - 13s 3ms/step - loss: 0.6215 - accuracy: 0.6460 - val_loss: 0.6110 - val_accuracy: 0.6498\n",
      "Epoch 67/500\n",
      "3782/3782 [==============================] - 13s 3ms/step - loss: 0.6225 - accuracy: 0.6449 - val_loss: 0.6113 - val_accuracy: 0.6508\n",
      "Epoch 68/500\n",
      "3782/3782 [==============================] - 14s 4ms/step - loss: 0.6222 - accuracy: 0.6457 - val_loss: 0.6111 - val_accuracy: 0.6510\n",
      "Epoch 69/500\n",
      "3782/3782 [==============================] - 13s 3ms/step - loss: 0.6222 - accuracy: 0.6446 - val_loss: 0.6110 - val_accuracy: 0.6501\n",
      "Epoch 70/500\n",
      "3782/3782 [==============================] - 13s 3ms/step - loss: 0.6218 - accuracy: 0.6446 - val_loss: 0.6108 - val_accuracy: 0.6479\n",
      "Epoch 71/500\n",
      "3782/3782 [==============================] - 13s 3ms/step - loss: 0.6220 - accuracy: 0.6453 - val_loss: 0.6121 - val_accuracy: 0.6510\n",
      "Epoch 72/500\n",
      "3782/3782 [==============================] - 13s 3ms/step - loss: 0.6221 - accuracy: 0.6430 - val_loss: 0.6114 - val_accuracy: 0.6510\n"
     ]
    }
   ],
   "source": [
    "#5 Entrenar el modelo\n",
    "n_epochs = 500\n",
    "#network = MLP_NN()\n",
    "#train = network.fit(input_train, output_train, epochs=n_epochs, batch_size=32, validation_split=0.2)\n",
    "\n",
    "\n",
    "network = MLP_NN()\n",
    "early_stopping = EarlyStopping(monitor='val_loss', patience=10, restore_best_weights=True)\n",
    "train = network.fit(input_train, output_train, epochs=n_epochs, batch_size=32, validation_split=0.2, callbacks=[early_stopping])\n"
   ]
  },
  {
   "cell_type": "code",
   "execution_count": 8,
   "metadata": {},
   "outputs": [
    {
     "name": "stdout",
     "output_type": "stream",
     "text": [
      "1182/1182 [==============================] - 3s 3ms/step - loss: 0.6105 - accuracy: 0.6527\n",
      "Precisión en el conjunto de prueba: 0.65\n"
     ]
    }
   ],
   "source": [
    "#6 Evaluar el modelo\n",
    "loss, accuracy = network.evaluate(input_test, output_test)\n",
    "print(f\"Precisión en el conjunto de prueba: {accuracy:.2f}\")"
   ]
  },
  {
   "cell_type": "code",
   "execution_count": 9,
   "metadata": {},
   "outputs": [
    {
     "name": "stdout",
     "output_type": "stream",
     "text": [
      "1182/1182 [==============================] - 2s 2ms/step\n",
      "[[0.61044765 0.38955238]\n",
      " [0.59401935 0.40598065]\n",
      " [0.51068026 0.4893197 ]\n",
      " ...\n",
      " [0.3768719  0.623128  ]\n",
      " [0.19147456 0.8085254 ]\n",
      " [0.44870123 0.5512988 ]]\n",
      "[0 0 0 ... 1 1 1]\n",
      "[0 0 0 ... 1 1 1]\n"
     ]
    }
   ],
   "source": [
    "#7 Predicciones\n",
    "output_pred = network.predict(input_test)\n",
    "print(output_pred)\n",
    "output_pred_classes = np.argmax(output_pred, axis=1)\n",
    "print(output_pred_classes)\n",
    "output_test_classes = np.argmax(output_test, axis=1)\n",
    "print(output_test_classes)\n"
   ]
  },
  {
   "cell_type": "code",
   "execution_count": 10,
   "metadata": {},
   "outputs": [
    {
     "name": "stdout",
     "output_type": "stream",
     "text": [
      "              precision    recall  f1-score   support\n",
      "\n",
      "           0       0.67      0.61      0.64     18942\n",
      "           1       0.64      0.69      0.66     18875\n",
      "\n",
      "    accuracy                           0.65     37817\n",
      "   macro avg       0.65      0.65      0.65     37817\n",
      "weighted avg       0.65      0.65      0.65     37817\n",
      "\n"
     ]
    }
   ],
   "source": [
    "#8 Generar el reporte de clasificación\n",
    "print(classification_report(output_test_classes, output_pred_classes))"
   ]
  },
  {
   "cell_type": "code",
   "execution_count": 11,
   "metadata": {},
   "outputs": [
    {
     "name": "stdout",
     "output_type": "stream",
     "text": [
      "[[11647  7295]\n",
      " [ 5840 13035]]\n"
     ]
    }
   ],
   "source": [
    "#9 Matriz de confusión\n",
    "print(confusion_matrix(output_test_classes, output_pred_classes))"
   ]
  },
  {
   "cell_type": "code",
   "execution_count": 12,
   "metadata": {},
   "outputs": [
    {
     "name": "stdout",
     "output_type": "stream",
     "text": [
      "4728/4728 [==============================] - 10s 2ms/step\n",
      "[[46612 28987]\n",
      " [23330 52336]]\n"
     ]
    }
   ],
   "source": [
    "# Matriz de confusión con datos de entrenamiento\n",
    "output_train_pred = network.predict(input_train)\n",
    "output_train_pred_classes = np.argmax(output_train_pred, axis=1)\n",
    "output_train_classes = np.argmax(output_train, axis=1)\n",
    "print(confusion_matrix(output_train_classes, output_train_pred_classes))"
   ]
  }
 ],
 "metadata": {
  "kernelspec": {
   "display_name": "Python 3",
   "language": "python",
   "name": "python3"
  },
  "language_info": {
   "codemirror_mode": {
    "name": "ipython",
    "version": 3
   },
   "file_extension": ".py",
   "mimetype": "text/x-python",
   "name": "python",
   "nbconvert_exporter": "python",
   "pygments_lexer": "ipython3",
   "version": "3.8.10"
  }
 },
 "nbformat": 4,
 "nbformat_minor": 2
}
